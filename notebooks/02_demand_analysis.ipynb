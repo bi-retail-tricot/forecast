{
 "cells": [
  {
   "cell_type": "markdown",
   "id": "b43cfcb4",
   "metadata": {},
   "source": [
    "# Setup"
   ]
  },
  {
   "cell_type": "code",
   "execution_count": 20,
   "id": "8f94c43f",
   "metadata": {},
   "outputs": [
    {
     "name": "stdout",
     "output_type": "stream",
     "text": [
      "Now you can import modules from the project root: /bi/workspace/Projects/Forecast/forecast\n"
     ]
    }
   ],
   "source": [
    "%run notebook_setup.py"
   ]
  },
  {
   "cell_type": "code",
   "execution_count": 31,
   "id": "356a7cdf",
   "metadata": {},
   "outputs": [],
   "source": [
    "import pandas as pd\n",
    "import numpy as np\n",
    "from scipy.stats import trim_mean\n",
    "\n",
    "from src.config.dir_config import OUTPUT_PATH_DEMMAND_SUMMARY,OUTPUT_PATH_PROCESSED_WEEKLY_SALES"
   ]
  },
  {
   "cell_type": "code",
   "execution_count": 22,
   "id": "ddb816cf",
   "metadata": {},
   "outputs": [],
   "source": [
    "demand_summary = pd.read_parquet(OUTPUT_PATH_DEMMAND_SUMMARY)"
   ]
  },
  {
   "cell_type": "markdown",
   "id": "86894f42",
   "metadata": {},
   "source": [
    "# Functions"
   ]
  },
  {
   "cell_type": "code",
   "execution_count": 23,
   "id": "3095480e",
   "metadata": {},
   "outputs": [],
   "source": [
    "def filter_dataframe(df, excludes_stores, excludes_deptos, exclude_ecom_deptos=True):\n",
    "    if exclude_ecom_deptos:\n",
    "        deptos_ecom = df[df['nombre_depto'].str.contains('e-com', case=False)]['nombre_depto'].unique().tolist()\n",
    "        excludes_deptos = excludes_deptos + deptos_ecom\n",
    "\n",
    "    df = df.loc[~df['cod_sucursal'].isin(excludes_stores)]\n",
    "    df = df.loc[~df['nombre_depto'].isin(excludes_deptos)]\n",
    "\n",
    "    # Si 'nombre_depto' y 'cod_sucursal' son categorías, eliminamos categorías no usadas\n",
    "    for col in ['nombre_depto']:\n",
    "        if isinstance(df[col].dtype, pd.CategoricalDtype):\n",
    "            df[col] = df[col].cat.remove_unused_categories()\n",
    "\n",
    "    return df"
   ]
  },
  {
   "cell_type": "code",
   "execution_count": 24,
   "id": "451b75df",
   "metadata": {},
   "outputs": [],
   "source": [
    "def safe_trim_mean(x, proportion=0.1):\n",
    "   # Eliminar NaN antes de calcular trim_mean\n",
    "   clean_x = x.dropna()\n",
    "   if len(clean_x) == 0:\n",
    "       return np.nan\n",
    "   return trim_mean(clean_x, proportion)"
   ]
  },
  {
   "cell_type": "markdown",
   "id": "5e6fa327",
   "metadata": {},
   "source": [
    "# Filters"
   ]
  },
  {
   "cell_type": "code",
   "execution_count": 25,
   "id": "81dd1a65",
   "metadata": {},
   "outputs": [],
   "source": [
    "excludes_deptos = ['Miscelaneos', 'Bolsas y bolsos']\n",
    "excludes_stores = [707, 767]"
   ]
  },
  {
   "cell_type": "code",
   "execution_count": 26,
   "id": "603d0220",
   "metadata": {},
   "outputs": [],
   "source": [
    "demand_summary = filter_dataframe(demand_summary, excludes_stores, excludes_deptos)"
   ]
  },
  {
   "cell_type": "code",
   "execution_count": 27,
   "id": "4039985a",
   "metadata": {},
   "outputs": [
    {
     "name": "stdout",
     "output_type": "stream",
     "text": [
      "0\n",
      "0\n"
     ]
    }
   ],
   "source": [
    "print(demand_summary['cod_sucursal'].isin([707, 767]).sum())\n",
    "print(demand_summary['nombre_depto'].isin(excludes_deptos).sum())"
   ]
  },
  {
   "cell_type": "markdown",
   "id": "837947f6",
   "metadata": {},
   "source": [
    "# Demand summary"
   ]
  },
  {
   "cell_type": "code",
   "execution_count": 28,
   "id": "47e6fa1d",
   "metadata": {},
   "outputs": [],
   "source": [
    "demand_summary_history = demand_summary.query('ano_temporada in [\"2024\", \"2023\", \"2022\"]').copy()"
   ]
  },
  {
   "cell_type": "markdown",
   "id": "fe9fdfda",
   "metadata": {},
   "source": [
    "## 1) By season"
   ]
  },
  {
   "cell_type": "code",
   "execution_count": 29,
   "id": "56e2e0e9",
   "metadata": {},
   "outputs": [],
   "source": [
    "demand_summary_by_season = demand_summary.groupby(['nombre_temporada', 'ano_temporada'], observed=True).agg(\n",
    "   count=('cod_producto', 'count'),\n",
    "   products=('cod_producto', 'nunique'),\n",
    "   skus=('cod_sku', 'nunique'),\n",
    "   stores=('cod_sucursal', 'nunique'),\n",
    "   on_season_weeks=('on_season_weeks', lambda x: safe_trim_mean(x)),\n",
    "   aviable_inventory_weeks=('aviable_inventory_weeks', lambda x: safe_trim_mean(x)),\n",
    "   sales_weeks=('sales_weeks', lambda x: safe_trim_mean(x)),\n",
    "   stockout_weeks=('stockout_weeks', lambda x: safe_trim_mean(x)),\n",
    "   mean_adi=('ADI', lambda x: safe_trim_mean(x)),\n",
    "   mean_sales=('mean_sale', lambda x: safe_trim_mean(x)),\n",
    "   mean_cv_sales=('CV_sales', lambda x: safe_trim_mean(x)),\n",
    "   mean_inventory=('mean_inventory', lambda x: safe_trim_mean(x)),\n",
    "   mean_cv_inventory=('CV_inventory', lambda x: safe_trim_mean(x)),\n",
    ").round(1).reset_index()"
   ]
  },
  {
   "cell_type": "markdown",
   "id": "58d5392e",
   "metadata": {},
   "source": [
    "## 2) By Store"
   ]
  },
  {
   "cell_type": "code",
   "execution_count": 32,
   "id": "250b5133",
   "metadata": {},
   "outputs": [],
   "source": [
    "demand_summary_by_store = demand_summary.groupby(['nombre_sucursal','nombre_temporada','ano_temporada'], observed=True).agg(\n",
    "   count=('cod_producto', 'count'),\n",
    "   products=('cod_producto', 'nunique'),\n",
    "   skus=('cod_sku', 'nunique'),\n",
    "   stores=('cod_sucursal', 'nunique'),\n",
    "   on_season_weeks=('on_season_weeks', lambda x: safe_trim_mean(x)),\n",
    "   aviable_inventory_weeks=('aviable_inventory_weeks', lambda x: safe_trim_mean(x)),\n",
    "   sales_weeks=('sales_weeks', lambda x: safe_trim_mean(x)),\n",
    "   stockout_weeks=('stockout_weeks', lambda x: safe_trim_mean(x)),\n",
    "   mean_adi=('ADI', lambda x: safe_trim_mean(x)),\n",
    "   mean_sales=('mean_sale', lambda x: safe_trim_mean(x)),\n",
    "   mean_cv_sales=('CV_sales', lambda x: safe_trim_mean(x)),\n",
    "   mean_inventory=('mean_inventory', lambda x: safe_trim_mean(x)),\n",
    "   mean_cv_inventory=('CV_inventory', lambda x: safe_trim_mean(x)),\n",
    ").round(1).reset_index()\n"
   ]
  },
  {
   "cell_type": "markdown",
   "id": "299d5afc",
   "metadata": {},
   "source": [
    "## 3) By Category"
   ]
  },
  {
   "cell_type": "code",
   "execution_count": 34,
   "id": "fd14375a",
   "metadata": {},
   "outputs": [],
   "source": [
    "demand_summary_by_category = demand_summary.groupby(['nombre_depto', 'nombre_linea','nombre_temporada','ano_temporada'], observed=True).agg(\n",
    "   count=('cod_producto', 'count'),\n",
    "   products=('cod_producto', 'nunique'),\n",
    "   skus=('cod_sku', 'nunique'),\n",
    "   stores=('cod_sucursal', 'nunique'),\n",
    "   on_season_weeks=('on_season_weeks', lambda x: safe_trim_mean(x)),\n",
    "   aviable_inventory_weeks=('aviable_inventory_weeks', lambda x: safe_trim_mean(x)),\n",
    "   sales_weeks=('sales_weeks', lambda x: safe_trim_mean(x)),\n",
    "   stockout_weeks=('stockout_weeks', lambda x: safe_trim_mean(x)),\n",
    "   mean_adi=('ADI', lambda x: safe_trim_mean(x)),\n",
    "   mean_sales=('mean_sale', lambda x: safe_trim_mean(x)),\n",
    "   mean_cv_sales=('CV_sales', lambda x: safe_trim_mean(x)),\n",
    "   mean_inventory=('mean_inventory', lambda x: safe_trim_mean(x)),\n",
    "   mean_cv_inventory=('CV_inventory', lambda x: safe_trim_mean(x)),\n",
    ").round(1).reset_index()"
   ]
  },
  {
   "cell_type": "markdown",
   "id": "05bc61a1",
   "metadata": {},
   "source": [
    "## 4) By size"
   ]
  },
  {
   "cell_type": "code",
   "execution_count": 35,
   "id": "f62c1d3e",
   "metadata": {},
   "outputs": [],
   "source": [
    "demand_summary_by_category_size = demand_summary.groupby(['nombre_depto', 'nombre_linea','cod_talla','nom_talla','nombre_temporada','ano_temporada'], observed=True).agg(\n",
    "   count=('cod_producto', 'count'),\n",
    "   products=('cod_producto', 'nunique'),\n",
    "   skus=('cod_sku', 'nunique'),\n",
    "   stores=('cod_sucursal', 'nunique'),\n",
    "   on_season_weeks=('on_season_weeks', lambda x: safe_trim_mean(x)),\n",
    "   aviable_inventory_weeks=('aviable_inventory_weeks', lambda x: safe_trim_mean(x)),\n",
    "   sales_weeks=('sales_weeks', lambda x: safe_trim_mean(x)),\n",
    "   stockout_weeks=('stockout_weeks', lambda x: safe_trim_mean(x)),\n",
    "   mean_adi=('ADI', lambda x: safe_trim_mean(x)),\n",
    "   mean_sales=('mean_sale', lambda x: safe_trim_mean(x)),\n",
    "   mean_cv_sales=('CV_sales', lambda x: safe_trim_mean(x)),\n",
    "   mean_inventory=('mean_inventory', lambda x: safe_trim_mean(x)),\n",
    "   mean_cv_inventory=('CV_inventory', lambda x: safe_trim_mean(x)),\n",
    ").round(1).reset_index()"
   ]
  },
  {
   "cell_type": "markdown",
   "id": "56c5e1ed",
   "metadata": {},
   "source": [
    "## 5) By All"
   ]
  },
  {
   "cell_type": "code",
   "execution_count": 36,
   "id": "75a9591f",
   "metadata": {},
   "outputs": [],
   "source": [
    "demand_summary_all = demand_summary.query('nombre_depto in [\"Juvenil mujer\", \"Jeans juv mujer\"]').groupby(['nombre_temporada','ano_temporada','nombre_depto', 'nombre_linea','cod_talla','nom_talla','nombre_sucursal'], observed=True).agg(\n",
    "   count=('cod_producto', 'count'),\n",
    "   products=('cod_producto', 'nunique'),\n",
    "   skus=('cod_sku', 'nunique'),\n",
    "   stores=('cod_sucursal', 'nunique'),\n",
    "   on_season_weeks=('on_season_weeks', lambda x: safe_trim_mean(x)),\n",
    "   aviable_inventory_weeks=('aviable_inventory_weeks', lambda x: safe_trim_mean(x)),\n",
    "   sales_weeks=('sales_weeks', lambda x: safe_trim_mean(x)),\n",
    "   stockout_weeks=('stockout_weeks', lambda x: safe_trim_mean(x)),\n",
    "   mean_adi=('ADI', lambda x: safe_trim_mean(x)),\n",
    "   mean_sales=('mean_sale', lambda x: safe_trim_mean(x)),\n",
    "   mean_cv_sales=('CV_sales', lambda x: safe_trim_mean(x)),\n",
    "   mean_inventory=('mean_inventory', lambda x: safe_trim_mean(x)),\n",
    "   mean_cv_inventory=('CV_inventory', lambda x: safe_trim_mean(x)),\n",
    ").round(1).reset_index()"
   ]
  },
  {
   "cell_type": "markdown",
   "id": "dddee552",
   "metadata": {},
   "source": [
    "## 6) By store_week"
   ]
  },
  {
   "cell_type": "markdown",
   "id": "96609d1b",
   "metadata": {},
   "source": [
    "# Sample"
   ]
  },
  {
   "cell_type": "code",
   "execution_count": 37,
   "id": "e8c077f1",
   "metadata": {},
   "outputs": [],
   "source": [
    "productos = [273139, 273139,631139]\n",
    "stores = [32, 207]"
   ]
  },
  {
   "cell_type": "code",
   "execution_count": 38,
   "id": "785fe310",
   "metadata": {},
   "outputs": [],
   "source": [
    "demand_summary_sample = demand_summary[(demand_summary['cod_producto'].isin(productos)) & (demand_summary['cod_sucursal'].isin(stores))].reset_index(drop=True).copy()"
   ]
  },
  {
   "cell_type": "markdown",
   "id": "ef86d6af",
   "metadata": {},
   "source": [
    "# Export to Excel"
   ]
  },
  {
   "cell_type": "code",
   "execution_count": 39,
   "id": "1df81e00",
   "metadata": {},
   "outputs": [],
   "source": [
    "with pd.ExcelWriter('../sandbox/demand_summary.xlsx') as writer:\n",
    "    demand_summary_sample.to_excel(writer, sheet_name='demand_summary', index=False)\n",
    "    demand_summary_by_season.to_excel(writer, sheet_name='demand_summary_by_season', index=False)\n",
    "    demand_summary_by_store.to_excel(writer, sheet_name='demand_summary_by_store', index=False)\n",
    "    demand_summary_by_category.to_excel(writer, sheet_name='demand_summary_by_category', index=False)\n",
    "    demand_summary_by_category_size.to_excel(writer, sheet_name='demand_summary_by_category_size', index=False)\n",
    "    demand_summary_all.to_excel(writer, sheet_name='demand_summary_all', index=False)"
   ]
  }
 ],
 "metadata": {
  "kernelspec": {
   "display_name": "forecast (3.13.4)",
   "language": "python",
   "name": "python3"
  },
  "language_info": {
   "codemirror_mode": {
    "name": "ipython",
    "version": 3
   },
   "file_extension": ".py",
   "mimetype": "text/x-python",
   "name": "python",
   "nbconvert_exporter": "python",
   "pygments_lexer": "ipython3",
   "version": "3.13.4"
  }
 },
 "nbformat": 4,
 "nbformat_minor": 5
}
