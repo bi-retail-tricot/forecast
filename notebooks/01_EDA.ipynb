{
 "cells": [
  {
   "cell_type": "code",
   "execution_count": 4,
   "id": "a16daca6",
   "metadata": {},
   "outputs": [
    {
     "name": "stdout",
     "output_type": "stream",
     "text": [
      "Now you can import modules from the project root: /bi/workspace/Projects/Forecast/forecast\n"
     ]
    }
   ],
   "source": [
    "%run notebook_setup.py"
   ]
  },
  {
   "cell_type": "code",
   "execution_count": 5,
   "id": "bda41747",
   "metadata": {},
   "outputs": [],
   "source": [
    "import pandas as pd\n",
    "import numpy as np\n",
    "\n",
    "input_path = '/bi/workspace/Projects/Forecast/forecast/data/processed/weekly_sales_processed.parquet'\n",
    "\n",
    "df = pd.read_parquet(input_path)"
   ]
  },
  {
   "cell_type": "markdown",
   "id": "17eadea5",
   "metadata": {},
   "source": [
    "# Demand summary"
   ]
  },
  {
   "cell_type": "code",
   "execution_count": null,
   "id": "00d39175",
   "metadata": {},
   "outputs": [
    {
     "name": "stderr",
     "output_type": "stream",
     "text": [
      "2025-07-22 17:01:07 - INFO - Starting demand analysis...\n",
      "2025-07-22 17:01:07 - INFO - Summarizing sales data...\n",
      "2025-07-22 17:01:18 - INFO - Summarizing inventory data...\n"
     ]
    }
   ],
   "source": [
    "from src.analysis.demand_summary import summarize_demand\n",
    "\n",
    "demand_summary = summarize_demand(df)"
   ]
  },
  {
   "cell_type": "code",
   "execution_count": null,
   "id": "6f5e45a9",
   "metadata": {},
   "outputs": [],
   "source": [
    "demand_summary.info()"
   ]
  },
  {
   "cell_type": "markdown",
   "id": "6c81b9e9",
   "metadata": {},
   "source": [
    "# Sandbox"
   ]
  },
  {
   "cell_type": "code",
   "execution_count": 8,
   "id": "5ffd24cb",
   "metadata": {},
   "outputs": [],
   "source": [
    "producto = 611631\n",
    "store = 32\n",
    "#cod_talla = 102\n",
    "\n",
    "df_sample = df[(df['cod_producto'] == producto) & (df['cod_sucursal'] == store)].reset_index(drop=True).copy()\n",
    "df_sample = df_sample.drop(columns=['mnt_venta_neta', 'mnt_costo_venta'])"
   ]
  }
 ],
 "metadata": {
  "kernelspec": {
   "display_name": "forecast (3.13.4)",
   "language": "python",
   "name": "python3"
  },
  "language_info": {
   "codemirror_mode": {
    "name": "ipython",
    "version": 3
   },
   "file_extension": ".py",
   "mimetype": "text/x-python",
   "name": "python",
   "nbconvert_exporter": "python",
   "pygments_lexer": "ipython3",
   "version": "3.13.4"
  }
 },
 "nbformat": 4,
 "nbformat_minor": 5
}
