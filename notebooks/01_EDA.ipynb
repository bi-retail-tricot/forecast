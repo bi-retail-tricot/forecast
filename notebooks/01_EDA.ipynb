{
 "cells": [
  {
   "cell_type": "markdown",
   "id": "edeee22f",
   "metadata": {},
   "source": [
    "# Setup"
   ]
  },
  {
   "cell_type": "code",
   "execution_count": 18,
   "id": "a16daca6",
   "metadata": {},
   "outputs": [
    {
     "name": "stdout",
     "output_type": "stream",
     "text": [
      "Now you can import modules from the project root: /bi/workspace/Projects/Forecast/forecast\n"
     ]
    }
   ],
   "source": [
    "%run notebook_setup.py"
   ]
  },
  {
   "cell_type": "code",
   "execution_count": 19,
   "id": "876fbf10",
   "metadata": {},
   "outputs": [],
   "source": [
    "import pandas as pd"
   ]
  },
  {
   "cell_type": "code",
   "execution_count": 20,
   "id": "003fb469",
   "metadata": {},
   "outputs": [],
   "source": [
    "import gc"
   ]
  },
  {
   "cell_type": "code",
   "execution_count": 21,
   "id": "1f65cd98",
   "metadata": {},
   "outputs": [],
   "source": [
    "from src.config.dir_config import OUTPUT_PATH_DEMMAND_SUMMARY,OUTPUT_PATH_PROCESSED_WEEKLY_SALES"
   ]
  },
  {
   "cell_type": "markdown",
   "id": "228221cf",
   "metadata": {},
   "source": [
    "# Read data"
   ]
  },
  {
   "cell_type": "code",
   "execution_count": null,
   "id": "8b43d5df",
   "metadata": {},
   "outputs": [],
   "source": [
    "data_genex = pd.read_parquet('/bi/workspace/Projects/Forecast/forecast/data/processed/data_genex.parquet')"
   ]
  },
  {
   "cell_type": "code",
   "execution_count": 23,
   "id": "38c9d993",
   "metadata": {},
   "outputs": [],
   "source": [
    "weekly_sales_df = pd.read_parquet(OUTPUT_PATH_PROCESSED_WEEKLY_SALES)"
   ]
  },
  {
   "cell_type": "markdown",
   "id": "d6dfe265",
   "metadata": {},
   "source": [
    "# Functions"
   ]
  },
  {
   "cell_type": "code",
   "execution_count": 24,
   "id": "aa7df311",
   "metadata": {},
   "outputs": [],
   "source": [
    "# Recalcula los valores permitidos y filtra por categoría de forma segura\n",
    "def filter_dataframe(df, excludes_stores, excludes_deptos, exclude_ecom_deptos=True):\n",
    "    if exclude_ecom_deptos:\n",
    "        deptos_ecom = df[df['nombre_depto'].str.contains('e-com', case=False)]['nombre_depto'].unique().tolist()\n",
    "        excludes_deptos = excludes_deptos + deptos_ecom\n",
    "\n",
    "    df = df.loc[~df['cod_sucursal'].isin(excludes_stores)]\n",
    "    df = df.loc[~df['nombre_depto'].isin(excludes_deptos)]\n",
    "\n",
    "    # Si 'nombre_depto' y 'cod_sucursal' son categorías, eliminamos categorías no usadas\n",
    "    for col in ['nombre_depto']:\n",
    "        if isinstance(df[col].dtype, pd.CategoricalDtype):\n",
    "            df[col] = df[col].cat.remove_unused_categories()\n",
    "\n",
    "    return df"
   ]
  },
  {
   "cell_type": "markdown",
   "id": "c3d23cb8",
   "metadata": {},
   "source": [
    "# Filters"
   ]
  },
  {
   "cell_type": "code",
   "execution_count": 25,
   "id": "319df9a8",
   "metadata": {},
   "outputs": [],
   "source": [
    "excludes_deptos = ['Miscelaneos', 'Bolsas y bolsos']\n",
    "excludes_stores = [707, 767]"
   ]
  },
  {
   "cell_type": "code",
   "execution_count": 26,
   "id": "e952a8ce",
   "metadata": {},
   "outputs": [],
   "source": [
    "# Filtrar y guardar weekly_sales_df directamente\n",
    "#weekly_sales_df = filter_dataframe(weekly_sales_df, excludes_stores, excludes_deptos)\n",
    "#weekly_sales_df.to_parquet(OUTPUT_PATH_PROCESSED_WEEKLY_SALES, index=False)"
   ]
  },
  {
   "cell_type": "markdown",
   "id": "d5ccd8a4",
   "metadata": {},
   "source": [
    "# Week by Week"
   ]
  },
  {
   "cell_type": "code",
   "execution_count": 28,
   "id": "db05bfa8",
   "metadata": {},
   "outputs": [],
   "source": [
    "total_sales_by_season_store=weekly_sales_df.groupby([\n",
    "    'cod_sucursal','nombre_sucursal','nombre_temporada','ano_temporada',\n",
    "], observed=True).agg(\n",
    "    total_sales = ('weekly_sales', 'sum'),\n",
    ").reset_index()"
   ]
  },
  {
   "cell_type": "code",
   "execution_count": 29,
   "id": "94624d20",
   "metadata": {},
   "outputs": [
    {
     "data": {
      "text/plain": [
       "Index(['cod_sucursal', 'cod_producto', 'cod_talla', 'cod_sku',\n",
       "       'cod_ano_comercial', 'cod_semana', 'weekly_sales', 'stock_start_week',\n",
       "       'stock_end_week', 'mnt_venta_neta', 'mnt_costo_venta', 'reposition',\n",
       "       'weekly_available_stock', 'flag_sale', 'flag_inventory_available',\n",
       "       'flag_repo', 'flag_stockout', 'nombre_sucursal', 'tipo_sucursal',\n",
       "       'nombre_temporada', 'ano_temporada', 'nombre_depto', 'nombre_linea',\n",
       "       'nom_talla'],\n",
       "      dtype='object')"
      ]
     },
     "execution_count": 29,
     "metadata": {},
     "output_type": "execute_result"
    }
   ],
   "source": [
    "weekly_sales_df.columns"
   ]
  },
  {
   "cell_type": "code",
   "execution_count": 30,
   "id": "c4e2c6cd",
   "metadata": {},
   "outputs": [],
   "source": [
    "weekly_store_sales = weekly_sales_df.groupby(\n",
    "    ['nombre_temporada','ano_temporada','cod_sucursal','cod_ano_comercial','cod_semana',], observed=False).agg(\n",
    "    sku_with_inventory=('flag_inventory_available', 'sum'),\n",
    "    sku_with_sales=('flag_sale', 'sum'),\n",
    "    sku_with_stockout=('flag_stockout', 'sum'),\n",
    ").reset_index()"
   ]
  },
  {
   "cell_type": "markdown",
   "id": "6c81b9e9",
   "metadata": {},
   "source": [
    "# Sample"
   ]
  },
  {
   "cell_type": "code",
   "execution_count": 31,
   "id": "010ad007",
   "metadata": {},
   "outputs": [],
   "source": [
    "productos = [273139, 273139,631139]\n",
    "stores = [32]"
   ]
  },
  {
   "cell_type": "markdown",
   "id": "272c7a9a",
   "metadata": {},
   "source": [
    "## Sample dataframes"
   ]
  },
  {
   "cell_type": "code",
   "execution_count": 33,
   "id": "5ffd24cb",
   "metadata": {},
   "outputs": [
    {
     "ename": "NameError",
     "evalue": "name 'data_genex' is not defined",
     "output_type": "error",
     "traceback": [
      "\u001b[31m---------------------------------------------------------------------------\u001b[39m",
      "\u001b[31mNameError\u001b[39m                                 Traceback (most recent call last)",
      "\u001b[36mCell\u001b[39m\u001b[36m \u001b[39m\u001b[32mIn[33]\u001b[39m\u001b[32m, line 4\u001b[39m\n\u001b[32m      1\u001b[39m weekly_sales_df_sample = weekly_sales_df[(weekly_sales_df[\u001b[33m'\u001b[39m\u001b[33mcod_producto\u001b[39m\u001b[33m'\u001b[39m].isin(productos)) & (weekly_sales_df[\u001b[33m'\u001b[39m\u001b[33mcod_sucursal\u001b[39m\u001b[33m'\u001b[39m].isin(stores))].reset_index(drop=\u001b[38;5;28;01mTrue\u001b[39;00m).copy()\n\u001b[32m      2\u001b[39m weekly_sales_df_sample = weekly_sales_df_sample.drop(columns=[\u001b[33m'\u001b[39m\u001b[33mmnt_venta_neta\u001b[39m\u001b[33m'\u001b[39m, \u001b[33m'\u001b[39m\u001b[33mmnt_costo_venta\u001b[39m\u001b[33m'\u001b[39m])\n\u001b[32m----> \u001b[39m\u001b[32m4\u001b[39m data_genex_sample = \u001b[43mdata_genex\u001b[49m[(data_genex[\u001b[33m'\u001b[39m\u001b[33mcod_producto\u001b[39m\u001b[33m'\u001b[39m].isin(productos)) & (data_genex[\u001b[33m'\u001b[39m\u001b[33mcod_sucursal\u001b[39m\u001b[33m'\u001b[39m].isin(stores))].reset_index(drop=\u001b[38;5;28;01mTrue\u001b[39;00m).copy()\n",
      "\u001b[31mNameError\u001b[39m: name 'data_genex' is not defined"
     ]
    }
   ],
   "source": [
    "weekly_sales_df_sample = weekly_sales_df[(weekly_sales_df['cod_producto'].isin(productos)) & (weekly_sales_df['cod_sucursal'].isin(stores))].reset_index(drop=True).copy()\n",
    "weekly_sales_df_sample = weekly_sales_df_sample.drop(columns=['mnt_venta_neta', 'mnt_costo_venta'])\n",
    "\n",
    "data_genex_sample = data_genex[(data_genex['cod_producto'].isin(productos)) & (data_genex['cod_sucursal'].isin(stores))].reset_index(drop=True).copy()"
   ]
  },
  {
   "cell_type": "markdown",
   "id": "cee96cf1",
   "metadata": {},
   "source": [
    "# Excel export"
   ]
  },
  {
   "cell_type": "code",
   "execution_count": 34,
   "id": "821bdc87",
   "metadata": {},
   "outputs": [],
   "source": [
    "with pd.ExcelWriter('../sandbox/weekly_sale_sample.xlsx') as writer:\n",
    "    weekly_sales_df_sample.to_excel(writer, sheet_name='weekly_sales_df_sample', index=False)\n",
    "    #data_genex_sample.to_excel(writer, sheet_name='data_genex_sample', index=False)\n",
    "    total_sales_by_season_store.to_excel(writer, sheet_name='total_sales_by_season_store', index=False)"
   ]
  }
 ],
 "metadata": {
  "kernelspec": {
   "display_name": "forecast (3.13.4)",
   "language": "python",
   "name": "python3"
  },
  "language_info": {
   "codemirror_mode": {
    "name": "ipython",
    "version": 3
   },
   "file_extension": ".py",
   "mimetype": "text/x-python",
   "name": "python",
   "nbconvert_exporter": "python",
   "pygments_lexer": "ipython3",
   "version": "3.13.4"
  }
 },
 "nbformat": 4,
 "nbformat_minor": 5
}
